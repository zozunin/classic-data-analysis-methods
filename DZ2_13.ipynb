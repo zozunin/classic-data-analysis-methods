{
 "cells": [
  {
   "cell_type": "code",
   "execution_count": 1,
   "metadata": {
    "id": "529oRkPFouoD"
   },
   "outputs": [],
   "source": [
    "import pandas as pd\n",
    "import numpy as np\n",
    "import seaborn as sns\n",
    "import matplotlib.pyplot as plt"
   ]
  },
  {
   "cell_type": "code",
   "execution_count": 2,
   "metadata": {
    "colab": {
     "base_uri": "https://localhost:8080/",
     "height": 398
    },
    "id": "q8OO2-oAmiV2",
    "outputId": "aa834d6a-fffd-4a32-d8cf-cec816103951"
   },
   "outputs": [
    {
     "data": {
      "text/html": [
       "<div>\n",
       "<style scoped>\n",
       "    .dataframe tbody tr th:only-of-type {\n",
       "        vertical-align: middle;\n",
       "    }\n",
       "\n",
       "    .dataframe tbody tr th {\n",
       "        vertical-align: top;\n",
       "    }\n",
       "\n",
       "    .dataframe thead th {\n",
       "        text-align: right;\n",
       "    }\n",
       "</style>\n",
       "<table border=\"1\" class=\"dataframe\">\n",
       "  <thead>\n",
       "    <tr style=\"text-align: right;\">\n",
       "      <th></th>\n",
       "      <th>Возраст (лет)</th>\n",
       "      <th>Количество иждивенцев</th>\n",
       "      <th>Доход (руб./мес.)</th>\n",
       "      <th>Срок проживания в регионе (лет)</th>\n",
       "      <th>Оценка автомобиля заемщика (USD)</th>\n",
       "      <th>Размер кредита(тыс. руб.)</th>\n",
       "    </tr>\n",
       "  </thead>\n",
       "  <tbody>\n",
       "    <tr>\n",
       "      <th>0</th>\n",
       "      <td>37</td>\n",
       "      <td>1</td>\n",
       "      <td>7400</td>\n",
       "      <td>9</td>\n",
       "      <td>7000</td>\n",
       "      <td>70000</td>\n",
       "    </tr>\n",
       "    <tr>\n",
       "      <th>1</th>\n",
       "      <td>45</td>\n",
       "      <td>3</td>\n",
       "      <td>33100</td>\n",
       "      <td>12</td>\n",
       "      <td>34000</td>\n",
       "      <td>337000</td>\n",
       "    </tr>\n",
       "    <tr>\n",
       "      <th>2</th>\n",
       "      <td>32</td>\n",
       "      <td>1</td>\n",
       "      <td>18700</td>\n",
       "      <td>5</td>\n",
       "      <td>17000</td>\n",
       "      <td>176000</td>\n",
       "    </tr>\n",
       "    <tr>\n",
       "      <th>3</th>\n",
       "      <td>39</td>\n",
       "      <td>2</td>\n",
       "      <td>29100</td>\n",
       "      <td>9</td>\n",
       "      <td>29000</td>\n",
       "      <td>289000</td>\n",
       "    </tr>\n",
       "    <tr>\n",
       "      <th>4</th>\n",
       "      <td>33</td>\n",
       "      <td>1</td>\n",
       "      <td>11400</td>\n",
       "      <td>6</td>\n",
       "      <td>10000</td>\n",
       "      <td>104000</td>\n",
       "    </tr>\n",
       "    <tr>\n",
       "      <th>5</th>\n",
       "      <td>28</td>\n",
       "      <td>1</td>\n",
       "      <td>20100</td>\n",
       "      <td>2</td>\n",
       "      <td>18000</td>\n",
       "      <td>184000</td>\n",
       "    </tr>\n",
       "    <tr>\n",
       "      <th>6</th>\n",
       "      <td>47</td>\n",
       "      <td>2</td>\n",
       "      <td>4400</td>\n",
       "      <td>15</td>\n",
       "      <td>6000</td>\n",
       "      <td>55000</td>\n",
       "    </tr>\n",
       "    <tr>\n",
       "      <th>7</th>\n",
       "      <td>36</td>\n",
       "      <td>2</td>\n",
       "      <td>30500</td>\n",
       "      <td>7</td>\n",
       "      <td>30000</td>\n",
       "      <td>299000</td>\n",
       "    </tr>\n",
       "    <tr>\n",
       "      <th>8</th>\n",
       "      <td>45</td>\n",
       "      <td>3</td>\n",
       "      <td>32300</td>\n",
       "      <td>12</td>\n",
       "      <td>33000</td>\n",
       "      <td>330000</td>\n",
       "    </tr>\n",
       "    <tr>\n",
       "      <th>9</th>\n",
       "      <td>39</td>\n",
       "      <td>2</td>\n",
       "      <td>25900</td>\n",
       "      <td>9</td>\n",
       "      <td>26000</td>\n",
       "      <td>258000</td>\n",
       "    </tr>\n",
       "  </tbody>\n",
       "</table>\n",
       "</div>"
      ],
      "text/plain": [
       "   Возраст (лет)  Количество иждивенцев  Доход (руб./мес.)  \\\n",
       "0             37                      1               7400   \n",
       "1             45                      3              33100   \n",
       "2             32                      1              18700   \n",
       "3             39                      2              29100   \n",
       "4             33                      1              11400   \n",
       "5             28                      1              20100   \n",
       "6             47                      2               4400   \n",
       "7             36                      2              30500   \n",
       "8             45                      3              32300   \n",
       "9             39                      2              25900   \n",
       "\n",
       "   Срок проживания в регионе (лет)  Оценка автомобиля заемщика (USD)  \\\n",
       "0                                9                              7000   \n",
       "1                               12                             34000   \n",
       "2                                5                             17000   \n",
       "3                                9                             29000   \n",
       "4                                6                             10000   \n",
       "5                                2                             18000   \n",
       "6                               15                              6000   \n",
       "7                                7                             30000   \n",
       "8                               12                             33000   \n",
       "9                                9                             26000   \n",
       "\n",
       "   Размер кредита(тыс. руб.)  \n",
       "0                      70000  \n",
       "1                     337000  \n",
       "2                     176000  \n",
       "3                     289000  \n",
       "4                     104000  \n",
       "5                     184000  \n",
       "6                      55000  \n",
       "7                     299000  \n",
       "8                     330000  \n",
       "9                     258000  "
      ]
     },
     "execution_count": 2,
     "metadata": {},
     "output_type": "execute_result"
    }
   ],
   "source": [
    "#url = 'https://github.com/zozunin/project/blob/main/HW_2_v13.xls?raw=true'\n",
    "\n",
    "filepath = 'HW_2_v13.xls'\n",
    "cols = ['Возраст (лет)', 'Количество иждивенцев', 'Доход (руб./мес.)',\n",
    "        'Срок проживания в регионе (лет)','Оценка автомобиля заемщика (USD)',\n",
    "        'Размер кредита(тыс. руб.)']\n",
    "X = pd.read_excel(filepath, header=None)\n",
    "X.columns = cols\n",
    "X.head(10)"
   ]
  },
  {
   "cell_type": "markdown",
   "metadata": {
    "id": "wZX6chxRuMeM"
   },
   "source": [
    "## Изучение данных"
   ]
  },
  {
   "cell_type": "code",
   "execution_count": 3,
   "metadata": {},
   "outputs": [
    {
     "data": {
      "text/html": [
       "<div>\n",
       "<style scoped>\n",
       "    .dataframe tbody tr th:only-of-type {\n",
       "        vertical-align: middle;\n",
       "    }\n",
       "\n",
       "    .dataframe tbody tr th {\n",
       "        vertical-align: top;\n",
       "    }\n",
       "\n",
       "    .dataframe thead th {\n",
       "        text-align: right;\n",
       "    }\n",
       "</style>\n",
       "<table border=\"1\" class=\"dataframe\">\n",
       "  <thead>\n",
       "    <tr style=\"text-align: right;\">\n",
       "      <th></th>\n",
       "      <th>Возраст (лет)</th>\n",
       "      <th>Количество иждивенцев</th>\n",
       "      <th>Доход (руб./мес.)</th>\n",
       "      <th>Срок проживания в регионе (лет)</th>\n",
       "      <th>Оценка автомобиля заемщика (USD)</th>\n",
       "      <th>Размер кредита(тыс. руб.)</th>\n",
       "    </tr>\n",
       "  </thead>\n",
       "  <tbody>\n",
       "    <tr>\n",
       "      <th>count</th>\n",
       "      <td>50.000000</td>\n",
       "      <td>50.000000</td>\n",
       "      <td>50.0000</td>\n",
       "      <td>50.000000</td>\n",
       "      <td>50.00</td>\n",
       "      <td>50.000000</td>\n",
       "    </tr>\n",
       "    <tr>\n",
       "      <th>mean</th>\n",
       "      <td>39.960000</td>\n",
       "      <td>2.020000</td>\n",
       "      <td>20052.0000</td>\n",
       "      <td>10.100000</td>\n",
       "      <td>20060.00</td>\n",
       "      <td>200100.000000</td>\n",
       "    </tr>\n",
       "    <tr>\n",
       "      <th>std</th>\n",
       "      <td>8.025368</td>\n",
       "      <td>1.020004</td>\n",
       "      <td>9897.8299</td>\n",
       "      <td>4.900021</td>\n",
       "      <td>10027.33</td>\n",
       "      <td>99924.308088</td>\n",
       "    </tr>\n",
       "    <tr>\n",
       "      <th>min</th>\n",
       "      <td>19.000000</td>\n",
       "      <td>0.000000</td>\n",
       "      <td>2000.0000</td>\n",
       "      <td>0.000000</td>\n",
       "      <td>0.00</td>\n",
       "      <td>3000.000000</td>\n",
       "    </tr>\n",
       "    <tr>\n",
       "      <th>25%</th>\n",
       "      <td>35.250000</td>\n",
       "      <td>1.000000</td>\n",
       "      <td>10950.0000</td>\n",
       "      <td>7.000000</td>\n",
       "      <td>11000.00</td>\n",
       "      <td>106750.000000</td>\n",
       "    </tr>\n",
       "    <tr>\n",
       "      <th>50%</th>\n",
       "      <td>40.000000</td>\n",
       "      <td>2.000000</td>\n",
       "      <td>19800.0000</td>\n",
       "      <td>10.000000</td>\n",
       "      <td>19500.00</td>\n",
       "      <td>193500.000000</td>\n",
       "    </tr>\n",
       "    <tr>\n",
       "      <th>75%</th>\n",
       "      <td>45.000000</td>\n",
       "      <td>2.750000</td>\n",
       "      <td>28925.0000</td>\n",
       "      <td>13.000000</td>\n",
       "      <td>28750.00</td>\n",
       "      <td>286000.000000</td>\n",
       "    </tr>\n",
       "    <tr>\n",
       "      <th>max</th>\n",
       "      <td>59.000000</td>\n",
       "      <td>4.000000</td>\n",
       "      <td>38600.0000</td>\n",
       "      <td>22.000000</td>\n",
       "      <td>38000.00</td>\n",
       "      <td>382000.000000</td>\n",
       "    </tr>\n",
       "  </tbody>\n",
       "</table>\n",
       "</div>"
      ],
      "text/plain": [
       "       Возраст (лет)  Количество иждивенцев  Доход (руб./мес.)  \\\n",
       "count      50.000000              50.000000            50.0000   \n",
       "mean       39.960000               2.020000         20052.0000   \n",
       "std         8.025368               1.020004          9897.8299   \n",
       "min        19.000000               0.000000          2000.0000   \n",
       "25%        35.250000               1.000000         10950.0000   \n",
       "50%        40.000000               2.000000         19800.0000   \n",
       "75%        45.000000               2.750000         28925.0000   \n",
       "max        59.000000               4.000000         38600.0000   \n",
       "\n",
       "       Срок проживания в регионе (лет)  Оценка автомобиля заемщика (USD)  \\\n",
       "count                        50.000000                             50.00   \n",
       "mean                         10.100000                          20060.00   \n",
       "std                           4.900021                          10027.33   \n",
       "min                           0.000000                              0.00   \n",
       "25%                           7.000000                          11000.00   \n",
       "50%                          10.000000                          19500.00   \n",
       "75%                          13.000000                          28750.00   \n",
       "max                          22.000000                          38000.00   \n",
       "\n",
       "       Размер кредита(тыс. руб.)  \n",
       "count                  50.000000  \n",
       "mean               200100.000000  \n",
       "std                 99924.308088  \n",
       "min                  3000.000000  \n",
       "25%                106750.000000  \n",
       "50%                193500.000000  \n",
       "75%                286000.000000  \n",
       "max                382000.000000  "
      ]
     },
     "execution_count": 3,
     "metadata": {},
     "output_type": "execute_result"
    }
   ],
   "source": [
    "X.describe()"
   ]
  },
  {
   "cell_type": "markdown",
   "metadata": {
    "id": "QfGbRsIxuP5Z"
   },
   "source": [
    "## PCA"
   ]
  },
  {
   "cell_type": "markdown",
   "metadata": {
    "id": "bC7Gmq1duXjW"
   },
   "source": [
    "- Выполнить центрирование данных и такую нормировку, что евклидова норма каждого признака равна 1 (полученная матрица обозначается через Z)."
   ]
  },
  {
   "cell_type": "code",
   "execution_count": 4,
   "metadata": {
    "id": "NlrA_U_puSpN"
   },
   "outputs": [],
   "source": [
    "# центрирование и нормализация\n",
    "Z = X - X.mean()\n",
    "norms = [np.linalg.norm(Z[i]) for i in Z.columns]\n",
    "Z = Z/norms"
   ]
  },
  {
   "cell_type": "markdown",
   "metadata": {},
   "source": [
    "Проверим, равна ли норма после центрирования и нормализации 1"
   ]
  },
  {
   "cell_type": "code",
   "execution_count": 5,
   "metadata": {
    "colab": {
     "base_uri": "https://localhost:8080/"
    },
    "id": "YoFxPz4QMDET",
    "outputId": "6689a3e4-fc48-4cda-8fc1-3cb41e00202d"
   },
   "outputs": [
    {
     "data": {
      "text/plain": [
       "1.0"
      ]
     },
     "execution_count": 5,
     "metadata": {},
     "output_type": "execute_result"
    }
   ],
   "source": [
    "np.linalg.norm(Z['Возраст (лет)'])"
   ]
  },
  {
   "cell_type": "markdown",
   "metadata": {
    "id": "e51Koq7ZvMNn"
   },
   "source": [
    "- Найти SVD разложение матрицы Z (матрицы U, S, V). **Докажите, что при выбранной нормировке, коэффициенты разложения столбцов матрицы Z по скрытым факторам являются корреляциями этих столбцов и скрытых факторов.**"
   ]
  },
  {
   "cell_type": "code",
   "execution_count": 6,
   "metadata": {
    "id": "lCDi6GgewWTk"
   },
   "outputs": [],
   "source": [
    "U, S, VT = np.linalg.svd(Z)"
   ]
  },
  {
   "cell_type": "markdown",
   "metadata": {
    "id": "FKsd4WA_vy1j"
   },
   "source": [
    " - Исследуйте, сколько скрытых факторов (главные факторы) достаточно для хорошей аппроксимации матрицы данных Z. Заменить значения исходных признаков линейными комбинациями главных факторов (матрица Zk, k – число главных факторов). Оценить погрешность аппроксимации в евклидовой матричной  норме и норме Фробениуса. "
   ]
  },
  {
   "cell_type": "code",
   "execution_count": 7,
   "metadata": {},
   "outputs": [
    {
     "data": {
      "text/html": [
       "<div>\n",
       "<style scoped>\n",
       "    .dataframe tbody tr th:only-of-type {\n",
       "        vertical-align: middle;\n",
       "    }\n",
       "\n",
       "    .dataframe tbody tr th {\n",
       "        vertical-align: top;\n",
       "    }\n",
       "\n",
       "    .dataframe thead th {\n",
       "        text-align: right;\n",
       "    }\n",
       "</style>\n",
       "<table border=\"1\" class=\"dataframe\">\n",
       "  <thead>\n",
       "    <tr style=\"text-align: right;\">\n",
       "      <th></th>\n",
       "      <th>Главные факторы</th>\n",
       "      <th>Сингулярные значения</th>\n",
       "      <th>Собственные значения</th>\n",
       "      <th>Вклад в вариацию(%)</th>\n",
       "      <th>Кумулятивный вклад в вариацию(%)</th>\n",
       "    </tr>\n",
       "  </thead>\n",
       "  <tbody>\n",
       "    <tr>\n",
       "      <th>0</th>\n",
       "      <td>1</td>\n",
       "      <td>1.84</td>\n",
       "      <td>3.38</td>\n",
       "      <td>56.39</td>\n",
       "      <td>56.39</td>\n",
       "    </tr>\n",
       "    <tr>\n",
       "      <th>1</th>\n",
       "      <td>2</td>\n",
       "      <td>1.60</td>\n",
       "      <td>2.55</td>\n",
       "      <td>42.51</td>\n",
       "      <td>98.90</td>\n",
       "    </tr>\n",
       "    <tr>\n",
       "      <th>2</th>\n",
       "      <td>3</td>\n",
       "      <td>0.24</td>\n",
       "      <td>0.06</td>\n",
       "      <td>0.99</td>\n",
       "      <td>99.89</td>\n",
       "    </tr>\n",
       "    <tr>\n",
       "      <th>3</th>\n",
       "      <td>4</td>\n",
       "      <td>0.07</td>\n",
       "      <td>0.01</td>\n",
       "      <td>0.09</td>\n",
       "      <td>99.98</td>\n",
       "    </tr>\n",
       "    <tr>\n",
       "      <th>4</th>\n",
       "      <td>5</td>\n",
       "      <td>0.03</td>\n",
       "      <td>0.00</td>\n",
       "      <td>0.02</td>\n",
       "      <td>100.00</td>\n",
       "    </tr>\n",
       "    <tr>\n",
       "      <th>5</th>\n",
       "      <td>6</td>\n",
       "      <td>0.01</td>\n",
       "      <td>0.00</td>\n",
       "      <td>0.00</td>\n",
       "      <td>100.00</td>\n",
       "    </tr>\n",
       "  </tbody>\n",
       "</table>\n",
       "</div>"
      ],
      "text/plain": [
       "   Главные факторы  Сингулярные значения  Собственные значения  \\\n",
       "0                1                  1.84                  3.38   \n",
       "1                2                  1.60                  2.55   \n",
       "2                3                  0.24                  0.06   \n",
       "3                4                  0.07                  0.01   \n",
       "4                5                  0.03                  0.00   \n",
       "5                6                  0.01                  0.00   \n",
       "\n",
       "   Вклад в вариацию(%)  Кумулятивный вклад в вариацию(%)  \n",
       "0                56.39                             56.39  \n",
       "1                42.51                             98.90  \n",
       "2                 0.99                             99.89  \n",
       "3                 0.09                             99.98  \n",
       "4                 0.02                            100.00  \n",
       "5                 0.00                            100.00  "
      ]
     },
     "execution_count": 7,
     "metadata": {},
     "output_type": "execute_result"
    }
   ],
   "source": [
    "ev_table = pd.DataFrame()\n",
    "\n",
    "pc_num = [i+1 for i in range(len(S))]\n",
    "ev_table[0] = pc_num\n",
    "ev_table[1] = S.round(2)\n",
    "qrS = S ** 2\n",
    "ev_table[2] = qrS.round(2)\n",
    "percentvar = [round(i/6.0*100,2) for i in S**2]\n",
    "ev_table[3] = percentvar\n",
    "ev_table[4] = np.cumsum(percentvar)\n",
    "\n",
    "ev_table.columns=['Главные факторы', 'Сингулярные значения',\n",
    "                                'Собственные значения', 'Вклад в вариацию(%)',\n",
    "                                'Кумулятивный вклад в вариацию(%)']\n",
    "ev_table"
   ]
  },
  {
   "cell_type": "code",
   "execution_count": 8,
   "metadata": {},
   "outputs": [
    {
     "data": {
      "image/png": "[encoded data removed]",
      "text/plain": [
       "<Figure size 432x360 with 1 Axes>"
      ]
     },
     "metadata": {
      "needs_background": "light"
     },
     "output_type": "display_data"
    }
   ],
   "source": [
    "plt.figure(figsize=(6,5))\n",
    "plt.bar(pc_num, np.cumsum(percentvar), color='powderblue', width=0.5,\n",
    "       label='Кумулятивный %')\n",
    "plt.axhline(y=99, color='r', linestyle='-', label='Порог 99%')\n",
    "plt.plot(pc_num, percentvar, label='Единичный вклад %')\n",
    "plt.plot(pc_num, percentvar, 'bo')\n",
    "plt.xlabel('Собственные числа')\n",
    "plt.ylabel('Вклад в вариацию данных(%)')\n",
    "plt.legend(loc='center right')\n",
    "plt.show()"
   ]
  },
  {
   "cell_type": "markdown",
   "metadata": {},
   "source": [
    "Видно, что основной вклад вносят два первых главных фактора."
   ]
  },
  {
   "cell_type": "code",
   "execution_count": 9,
   "metadata": {
    "colab": {
     "base_uri": "https://localhost:8080/"
    },
    "id": "8T8ye45VpeES",
    "outputId": "24c83c60-b235-4fed-fad1-f4d6db3ccf58"
   },
   "outputs": [
    {
     "name": "stdout",
     "output_type": "stream",
     "text": [
      "Два главных фактора вносят 98.9% в вариацию данных\n",
      "Ошибка аппроксимации в евклидовой матричной норме, где k=2:  0.24\n",
      "Ошибка аппроксимации в норме Фробениуса, где k=2:  0.07\n",
      "Относительная ошибка аппроксимации в норме Фробениуса, где k=2: 1.1%\n"
     ]
    }
   ],
   "source": [
    "print(\"Два главных фактора вносят {}% в вариацию данных\".format(sum(percentvar[:2])))\n",
    "\n",
    "#||A −Ak||2 = σk+1\n",
    "print(\"Ошибка аппроксимации в евклидовой матричной норме, где k=2: \", round(S[2], 2))\n",
    " \n",
    "# ||A −Ak||2F = σ2k+1 + ... + σ2p\n",
    "fr_error = round(sum(S[2:]**2),2)\n",
    "print(\"Ошибка аппроксимации в норме Фробениуса, где k=2: \", fr_error)\n",
    "\n",
    "\"\"\"|Z −Zk||2F / ||Z||2F\n",
    "= (s2k+1 + s2k+2 + ... + s2p)/\n",
    "s21 + s22 + ... + s2k + s2k+1 + ... + s2p\"\"\"\n",
    "rel_fr_error = round(sum(S[2:]**2)/sum(S**2)*100, 2)\n",
    "# или 100 - 98.9\n",
    "print(\"Относительная ошибка аппроксимации в норме Фробениуса, где k=2: {}%\".format(rel_fr_error))"
   ]
  },
  {
   "cell_type": "code",
   "execution_count": 10,
   "metadata": {
    "id": "mZUdaKYRvz7u"
   },
   "outputs": [],
   "source": [
    "# заменяем признаки двумя\n",
    "SVT = np.dot(np.diag(S[:2]), VT[:2])\n",
    "Zk = np.dot(U.T[:2].T,SVT)\n",
    "#Zk = np.dot(U.T[:2].T, np.diag(S[:2])), VT[:2])"
   ]
  },
  {
   "cell_type": "markdown",
   "metadata": {
    "id": "GAnID47fqk47"
   },
   "source": [
    "- Сравнить матрицы корреляций признаков для матрицы Z и матрицы Zk. Оценить качество аппроксимации по близости матриц корреляций (можно использовать относительную погрешность в одной из матричных норм) "
   ]
  },
  {
   "cell_type": "code",
   "execution_count": 11,
   "metadata": {
    "id": "1Lp5SLkYpN_S"
   },
   "outputs": [],
   "source": [
    "corrZ = Z.corr()\n",
    "Zkdf = pd.DataFrame(Zk, columns = Z.columns )\n",
    "corrZk = Zkdf.corr()"
   ]
  },
  {
   "cell_type": "code",
   "execution_count": 12,
   "metadata": {
    "colab": {
     "base_uri": "https://localhost:8080/",
     "height": 471
    },
    "id": "ErKPKBRupav3",
    "outputId": "c9aa4bc7-0850-420f-959f-3c15776e0e71"
   },
   "outputs": [
    {
     "data": {
      "text/plain": [
       "<AxesSubplot:>"
      ]
     },
     "execution_count": 12,
     "metadata": {},
     "output_type": "execute_result"
    },
    {
     "data": {
      "image/png": "[encoded data removed]",
      "text/plain": [
       "<Figure size 432x288 with 2 Axes>"
      ]
     },
     "metadata": {
      "needs_background": "light"
     },
     "output_type": "display_data"
    }
   ],
   "source": [
    "sns.heatmap(corrZ,annot=True)"
   ]
  },
  {
   "cell_type": "code",
   "execution_count": 13,
   "metadata": {
    "colab": {
     "base_uri": "https://localhost:8080/",
     "height": 471
    },
    "id": "d0ZDhTp_p8gf",
    "outputId": "90f41a5f-1760-4d0f-ef1a-8e5e2f89ea33"
   },
   "outputs": [
    {
     "data": {
      "text/plain": [
       "<AxesSubplot:>"
      ]
     },
     "execution_count": 13,
     "metadata": {},
     "output_type": "execute_result"
    },
    {
     "data": {
      "image/png": "[encoded data removed]",
      "text/plain": [
       "<Figure size 432x288 with 2 Axes>"
      ]
     },
     "metadata": {
      "needs_background": "light"
     },
     "output_type": "display_data"
    }
   ],
   "source": [
    "sns.heatmap(corrZk,annot=True)"
   ]
  },
  {
   "cell_type": "markdown",
   "metadata": {},
   "source": [
    "Качество аппроксимации по близости матриц с использованием нормы Фробениуса"
   ]
  },
  {
   "cell_type": "code",
   "execution_count": 14,
   "metadata": {
    "colab": {
     "base_uri": "https://localhost:8080/"
    },
    "id": "IEE-r1JewhsR",
    "outputId": "f322198b-95e4-4b75-d2f8-6ca4eee9a7fa"
   },
   "outputs": [
    {
     "data": {
      "text/plain": [
       "-0.046915889624025375"
      ]
     },
     "execution_count": 14,
     "metadata": {},
     "output_type": "execute_result"
    }
   ],
   "source": [
    "np.linalg.norm(corrZ, 'fro') - np.linalg.norm(corrZk, 'fro')"
   ]
  },
  {
   "cell_type": "markdown",
   "metadata": {
    "id": "HyeTIn7IuPzL"
   },
   "source": [
    "\n",
    "\n",
    "- Используя выделенные главные факторы, найти представления клиентов векторами меньшей размерности (размерности k).\n",
    "- Используя представление клиентов векторами меньшей размерности, построить карту клиентов. Сделать выводы о клиентах банка. \n"
   ]
  },
  {
   "cell_type": "markdown",
   "metadata": {
    "id": "EKs-snr_q1LT"
   },
   "source": [
    "Матрицы нагрузок и вращение"
   ]
  },
  {
   "cell_type": "code",
   "execution_count": 15,
   "metadata": {
    "colab": {
     "base_uri": "https://localhost:8080/"
    },
    "id": "P0idZ9g3g5j5",
    "outputId": "492b2af9-7039-4219-9f62-1e35e073cf2f"
   },
   "outputs": [
    {
     "data": {
      "text/plain": [
       "array([[ 0.31027213, -0.51019506],\n",
       "       [ 0.44262039, -0.34078805],\n",
       "       [ 0.43491699,  0.37524008],\n",
       "       [ 0.25912528, -0.5465919 ],\n",
       "       [ 0.48246293,  0.28714921],\n",
       "       [ 0.46770633,  0.31865656]])"
      ]
     },
     "execution_count": 15,
     "metadata": {},
     "output_type": "execute_result"
    }
   ],
   "source": [
    "VT[:2].T # карта признаков"
   ]
  },
  {
   "cell_type": "markdown",
   "metadata": {
    "id": "1S4sDxa8y4SM"
   },
   "source": [
    "Получим матрицу нагрузок:"
   ]
  },
  {
   "cell_type": "code",
   "execution_count": 16,
   "metadata": {
    "colab": {
     "base_uri": "https://localhost:8080/"
    },
    "id": "hKysycY0iRr9",
    "outputId": "879d54f0-46ab-48e6-c0ab-325eff930a02"
   },
   "outputs": [
    {
     "data": {
      "text/plain": [
       "array([[ 0.57070095, -0.81480509],\n",
       "       [ 0.81413655, -0.54425426],\n",
       "       [ 0.79996724,  0.59927575],\n",
       "       [ 0.47662369, -0.87293252],\n",
       "       [ 0.88742117,  0.45859056],\n",
       "       [ 0.86027853,  0.50890925]])"
      ]
     },
     "execution_count": 16,
     "metadata": {},
     "output_type": "execute_result"
    }
   ],
   "source": [
    "SVT.T"
   ]
  },
  {
   "cell_type": "markdown",
   "metadata": {
    "id": "Y-WY7v7ly9H2"
   },
   "source": [
    "Ясной картины нагрузки не дают, поэтому будем вращать.\n",
    "\n",
    "Попробуем три способа:\n",
    "1. простой поворот на 45 градусов\n",
    "2. варимакс\n",
    "3. квартимакс"
   ]
  },
  {
   "cell_type": "code",
   "execution_count": 17,
   "metadata": {
    "colab": {
     "base_uri": "https://localhost:8080/"
    },
    "id": "fbnZHWlpj6Gt",
    "outputId": "54ba8b73-9a6d-44d3-f4c4-43566d7908f4"
   },
   "outputs": [
    {
     "data": {
      "text/plain": [
       "array([[-0.17331394, -0.98370929],\n",
       "       [ 0.19161643, -0.96445747],\n",
       "       [ 0.99346252, -0.14249096],\n",
       "       [-0.28137927, -0.95818491],\n",
       "       [ 0.95566833, -0.30446974],\n",
       "       [ 0.97212333, -0.24947219]])"
      ]
     },
     "execution_count": 17,
     "metadata": {},
     "output_type": "execute_result"
    }
   ],
   "source": [
    "simple_mtx = [[0.71, -0.71], [0.71, 0.71]] # 45 градусов по часовой\n",
    "G = np.array(simple_mtx)\n",
    "simple_loadings = np.dot(G.T, SVT)\n",
    "simple_loadings.T"
   ]
  },
  {
   "cell_type": "markdown",
   "metadata": {
    "id": "qT-dGE-8zxmk"
   },
   "source": [
    "После простого поворота корреляции стали значительно виднее. \n",
    "* от первого фактора: 3, 5, 6\n",
    "* от второго фактора: 1, 2, 4"
   ]
  },
  {
   "cell_type": "code",
   "execution_count": 18,
   "metadata": {
    "id": "NxWsOovpuIjN"
   },
   "outputs": [],
   "source": [
    "#! pip install factor_analyzer\n",
    "from factor_analyzer import Rotator"
   ]
  },
  {
   "cell_type": "markdown",
   "metadata": {
    "id": "CsaumJ4i0LbJ"
   },
   "source": [
    "После применения метода варимакс получаем недостаточно четкие результаты по 6 признаку, в остальном - совпадает с простым поворотом на 45 градусов."
   ]
  },
  {
   "cell_type": "code",
   "execution_count": 19,
   "metadata": {
    "colab": {
     "base_uri": "https://localhost:8080/"
    },
    "id": "AmnvFX97thb0",
    "outputId": "34b3b341-4a13-445e-c0e2-3ed0d6711e28"
   },
   "outputs": [
    {
     "data": {
      "text/plain": [
       "array([[ 3.40243576e-04, -9.94789822e-01],\n",
       "       [ 3.54915907e-01, -9.12724340e-01],\n",
       "       [ 9.99018708e-01,  3.22588524e-02],\n",
       "       [-1.10065150e-01, -9.88466991e-01],\n",
       "       [ 9.89996713e-01, -1.33147067e-01],\n",
       "       [ 9.96612829e-01, -7.63586776e-02]])"
      ]
     },
     "execution_count": 19,
     "metadata": {},
     "output_type": "execute_result"
    }
   ],
   "source": [
    "loadings = pd.DataFrame(SVT.T)\n",
    "varirot = Rotator(method='varimax')\n",
    "varimax_loadings = varirot.fit_transform(loadings)\n",
    "varimax_mtx = varirot.rotation_\n",
    "varimax_loadings"
   ]
  },
  {
   "cell_type": "markdown",
   "metadata": {
    "id": "0tiMskoF0o0j"
   },
   "source": [
    "Квартимакс дает самые однозначные результаты:\n",
    "* от первого фактора: 3, 5, 6\n",
    "* от второго фактора: 1, 2, 4"
   ]
  },
  {
   "cell_type": "code",
   "execution_count": 20,
   "metadata": {
    "colab": {
     "base_uri": "https://localhost:8080/"
    },
    "id": "n7d038d_vtwU",
    "outputId": "f69578f1-86d4-419a-abc6-027be5fa2551"
   },
   "outputs": [
    {
     "data": {
      "text/plain": [
       "array([[ 0.00987027, -0.99474091],\n",
       "       [ 0.36364348, -0.90928238],\n",
       "       [ 0.99866383,  0.04182793],\n",
       "       [-0.10059063, -0.98947605],\n",
       "       [ 0.99122683, -0.12365683],\n",
       "       [ 0.99729861, -0.06680767]])"
      ]
     },
     "execution_count": 20,
     "metadata": {},
     "output_type": "execute_result"
    }
   ],
   "source": [
    "quartirot = Rotator(method='quartimax')\n",
    "quartimax_loadings = quartirot.fit_transform(loadings)\n",
    "quartimax_mtx = quartirot.rotation_\n",
    "quartimax_loadings"
   ]
  },
  {
   "cell_type": "code",
   "execution_count": 27,
   "metadata": {
    "id": "f6d3rDHfk-jH"
   },
   "outputs": [],
   "source": [
    "# переход к другому базису\n",
    "Zk2 = np.dot( np.dot(U.T[:2].T, quartimax_mtx.T), quartimax_loadings.T)"
   ]
  }
 ],
 "metadata": {
  "colab": {
   "collapsed_sections": [],
   "name": "DZ2-13.ipynb",
   "provenance": []
  },
  "kernelspec": {
   "display_name": "Python 3 (ipykernel)",
   "language": "python",
   "name": "python3"
  },
  "language_info": {
   "codemirror_mode": {
    "name": "ipython",
    "version": 3
   },
   "file_extension": ".py",
   "mimetype": "text/x-python",
   "name": "python",
   "nbconvert_exporter": "python",
   "pygments_lexer": "ipython3",
   "version": "3.8.10"
  }
 },
 "nbformat": 4,
 "nbformat_minor": 1
}
