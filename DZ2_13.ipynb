{
 "cells": [
  {
   "cell_type": "code",
   "execution_count": 23,
   "metadata": {
    "id": "529oRkPFouoD"
   },
   "outputs": [],
   "source": [
    "import pandas as pd\n",
    "import numpy as np\n",
    "import seaborn as sns\n",
    "import matplotlib.pyplot as plt"
   ]
  },
  {
   "cell_type": "code",
   "execution_count": 2,
   "metadata": {
    "colab": {
     "base_uri": "https://localhost:8080/",
     "height": 398
    },
    "id": "q8OO2-oAmiV2",
    "outputId": "aa834d6a-fffd-4a32-d8cf-cec816103951"
   },
   "outputs": [
    {
     "data": {
      "text/html": [
       "<div>\n",
       "<style scoped>\n",
       "    .dataframe tbody tr th:only-of-type {\n",
       "        vertical-align: middle;\n",
       "    }\n",
       "\n",
       "    .dataframe tbody tr th {\n",
       "        vertical-align: top;\n",
       "    }\n",
       "\n",
       "    .dataframe thead th {\n",
       "        text-align: right;\n",
       "    }\n",
       "</style>\n",
       "<table border=\"1\" class=\"dataframe\">\n",
       "  <thead>\n",
       "    <tr style=\"text-align: right;\">\n",
       "      <th></th>\n",
       "      <th>Возраст (лет)</th>\n",
       "      <th>Количество иждивенцев</th>\n",
       "      <th>Доход (руб./мес.)</th>\n",
       "      <th>Срок проживания в регионе (лет)</th>\n",
       "      <th>Оценка автомобиля заемщика (USD)</th>\n",
       "      <th>Размер кредита(тыс. руб.)</th>\n",
       "    </tr>\n",
       "  </thead>\n",
       "  <tbody>\n",
       "    <tr>\n",
       "      <th>0</th>\n",
       "      <td>37</td>\n",
       "      <td>1</td>\n",
       "      <td>7400</td>\n",
       "      <td>9</td>\n",
       "      <td>7000</td>\n",
       "      <td>70000</td>\n",
       "    </tr>\n",
       "    <tr>\n",
       "      <th>1</th>\n",
       "      <td>45</td>\n",
       "      <td>3</td>\n",
       "      <td>33100</td>\n",
       "      <td>12</td>\n",
       "      <td>34000</td>\n",
       "      <td>337000</td>\n",
       "    </tr>\n",
       "    <tr>\n",
       "      <th>2</th>\n",
       "      <td>32</td>\n",
       "      <td>1</td>\n",
       "      <td>18700</td>\n",
       "      <td>5</td>\n",
       "      <td>17000</td>\n",
       "      <td>176000</td>\n",
       "    </tr>\n",
       "    <tr>\n",
       "      <th>3</th>\n",
       "      <td>39</td>\n",
       "      <td>2</td>\n",
       "      <td>29100</td>\n",
       "      <td>9</td>\n",
       "      <td>29000</td>\n",
       "      <td>289000</td>\n",
       "    </tr>\n",
       "    <tr>\n",
       "      <th>4</th>\n",
       "      <td>33</td>\n",
       "      <td>1</td>\n",
       "      <td>11400</td>\n",
       "      <td>6</td>\n",
       "      <td>10000</td>\n",
       "      <td>104000</td>\n",
       "    </tr>\n",
       "    <tr>\n",
       "      <th>5</th>\n",
       "      <td>28</td>\n",
       "      <td>1</td>\n",
       "      <td>20100</td>\n",
       "      <td>2</td>\n",
       "      <td>18000</td>\n",
       "      <td>184000</td>\n",
       "    </tr>\n",
       "    <tr>\n",
       "      <th>6</th>\n",
       "      <td>47</td>\n",
       "      <td>2</td>\n",
       "      <td>4400</td>\n",
       "      <td>15</td>\n",
       "      <td>6000</td>\n",
       "      <td>55000</td>\n",
       "    </tr>\n",
       "    <tr>\n",
       "      <th>7</th>\n",
       "      <td>36</td>\n",
       "      <td>2</td>\n",
       "      <td>30500</td>\n",
       "      <td>7</td>\n",
       "      <td>30000</td>\n",
       "      <td>299000</td>\n",
       "    </tr>\n",
       "    <tr>\n",
       "      <th>8</th>\n",
       "      <td>45</td>\n",
       "      <td>3</td>\n",
       "      <td>32300</td>\n",
       "      <td>12</td>\n",
       "      <td>33000</td>\n",
       "      <td>330000</td>\n",
       "    </tr>\n",
       "    <tr>\n",
       "      <th>9</th>\n",
       "      <td>39</td>\n",
       "      <td>2</td>\n",
       "      <td>25900</td>\n",
       "      <td>9</td>\n",
       "      <td>26000</td>\n",
       "      <td>258000</td>\n",
       "    </tr>\n",
       "  </tbody>\n",
       "</table>\n",
       "</div>"
      ],
      "text/plain": [
       "   Возраст (лет)  Количество иждивенцев  Доход (руб./мес.)  \\\n",
       "0             37                      1               7400   \n",
       "1             45                      3              33100   \n",
       "2             32                      1              18700   \n",
       "3             39                      2              29100   \n",
       "4             33                      1              11400   \n",
       "5             28                      1              20100   \n",
       "6             47                      2               4400   \n",
       "7             36                      2              30500   \n",
       "8             45                      3              32300   \n",
       "9             39                      2              25900   \n",
       "\n",
       "   Срок проживания в регионе (лет)  Оценка автомобиля заемщика (USD)  \\\n",
       "0                                9                              7000   \n",
       "1                               12                             34000   \n",
       "2                                5                             17000   \n",
       "3                                9                             29000   \n",
       "4                                6                             10000   \n",
       "5                                2                             18000   \n",
       "6                               15                              6000   \n",
       "7                                7                             30000   \n",
       "8                               12                             33000   \n",
       "9                                9                             26000   \n",
       "\n",
       "   Размер кредита(тыс. руб.)  \n",
       "0                      70000  \n",
       "1                     337000  \n",
       "2                     176000  \n",
       "3                     289000  \n",
       "4                     104000  \n",
       "5                     184000  \n",
       "6                      55000  \n",
       "7                     299000  \n",
       "8                     330000  \n",
       "9                     258000  "
      ]
     },
     "execution_count": 2,
     "metadata": {},
     "output_type": "execute_result"
    }
   ],
   "source": [
    "#url = 'https://github.com/zozunin/project/blob/main/HW_2_v13.xls?raw=true'\n",
    "\n",
    "filepath = 'HW_2_v13.xls'\n",
    "cols = ['Возраст (лет)', 'Количество иждивенцев', 'Доход (руб./мес.)',\n",
    "        'Срок проживания в регионе (лет)','Оценка автомобиля заемщика (USD)',\n",
    "        'Размер кредита(тыс. руб.)']\n",
    "X = pd.read_excel(filepath, header=None)\n",
    "X.columns = cols\n",
    "X.head(10)"
   ]
  },
  {
   "cell_type": "markdown",
   "metadata": {
    "id": "wZX6chxRuMeM"
   },
   "source": [
    "## Изучение данных"
   ]
  },
  {
   "cell_type": "markdown",
   "metadata": {
    "id": "QfGbRsIxuP5Z"
   },
   "source": [
    "## PCA"
   ]
  },
  {
   "cell_type": "markdown",
   "metadata": {
    "id": "bC7Gmq1duXjW"
   },
   "source": [
    "- Выполнить центрирование данных и такую нормировку, что евклидова норма каждого признака равна 1 (полученная матрица обозначается через Z)."
   ]
  },
  {
   "cell_type": "code",
   "execution_count": 3,
   "metadata": {
    "id": "NlrA_U_puSpN"
   },
   "outputs": [],
   "source": [
    "# центрирование и нормализация\n",
    "Z = X - X.mean()\n",
    "norms = [np.linalg.norm(Z[i]) for i in Z.columns]\n",
    "Z = Z/norms"
   ]
  },
  {
   "cell_type": "markdown",
   "metadata": {},
   "source": [
    "Проверим, равна ли норма хотя бы одного признака 1"
   ]
  },
  {
   "cell_type": "code",
   "execution_count": 4,
   "metadata": {
    "colab": {
     "base_uri": "https://localhost:8080/"
    },
    "id": "YoFxPz4QMDET",
    "outputId": "6689a3e4-fc48-4cda-8fc1-3cb41e00202d"
   },
   "outputs": [
    {
     "data": {
      "text/plain": [
       "1.0"
      ]
     },
     "execution_count": 4,
     "metadata": {},
     "output_type": "execute_result"
    }
   ],
   "source": [
    "np.linalg.norm(Z['Возраст (лет)'])"
   ]
  },
  {
   "cell_type": "markdown",
   "metadata": {
    "id": "e51Koq7ZvMNn"
   },
   "source": [
    "- Найти SVD разложение матрицы Z (матрицы U, S, V). **Докажите, что при выбранной нормировке, коэффициенты разложения столбцов матрицы Z по скрытым факторам являются корреляциями этих столбцов и скрытых факторов.**"
   ]
  },
  {
   "cell_type": "code",
   "execution_count": 5,
   "metadata": {
    "id": "lCDi6GgewWTk"
   },
   "outputs": [],
   "source": [
    "U, S, VT = np.linalg.svd(Z)"
   ]
  },
  {
   "cell_type": "markdown",
   "metadata": {
    "id": "FKsd4WA_vy1j"
   },
   "source": [
    " - Исследуйте, **сколько скрытых факторов (главные факторы) достаточно для хорошей аппроксимации матрицы данных Z**. Заменить значения исходных признаков линейными комбинациями главных факторов (матрица Zk, k – число главных факторов). Оценить погрешность аппроксимации в евклидовой матричной  норме и норме Фробениуса. "
   ]
  },
  {
   "cell_type": "code",
   "execution_count": 6,
   "metadata": {},
   "outputs": [
    {
     "name": "stdout",
     "output_type": "stream",
     "text": [
      "Сингулярные числа:  [1.84 1.6  0.24 0.07 0.03 0.01]\n",
      "Квадраты сингулярных чисел:  [3.38 2.55 0.06 0.01 0.   0.  ]\n",
      "Вклад в вариацию данных в %:  [56.39, 42.51, 0.99, 0.09, 0.02, 0.0]\n"
     ]
    }
   ],
   "source": [
    "percentvar = [round(i/6.0*100,2) for i in S**2]\n",
    "print(\"Сингулярные числа: \", S.round(2))\n",
    "qrS = S ** 2\n",
    "print(\"Квадраты сингулярных чисел: \", qrS.round(2))\n",
    "percentvar = [round(i/6.0*100, 2) for i in qrS]\n",
    "print(\"Вклад в вариацию данных в %: \", percentvar)"
   ]
  },
  {
   "cell_type": "code",
   "execution_count": 10,
   "metadata": {},
   "outputs": [
    {
     "data": {
      "text/plain": [
       "array([3.38, 2.55, 0.06, 0.01, 0.  , 0.  ])"
      ]
     },
     "execution_count": 10,
     "metadata": {},
     "output_type": "execute_result"
    }
   ],
   "source": [
    "qrS.round(2)"
   ]
  },
  {
   "cell_type": "code",
   "execution_count": 25,
   "metadata": {},
   "outputs": [
    {
     "data": {
      "image/png": "[encoded data removed]",
      "text/plain": [
       "<Figure size 432x288 with 1 Axes>"
      ]
     },
     "metadata": {
      "needs_background": "light"
     },
     "output_type": "display_data"
    }
   ],
   "source": [
    "sns.barplot(x=[i+1 for i in range(len(qrS))], y=percentvar)\n",
    "plt.xlabel('Собственные числа')\n",
    "plt.ylabel('Вклад в вариацию данных(%)')\n",
    "plt.show()"
   ]
  },
  {
   "cell_type": "code",
   "execution_count": null,
   "metadata": {
    "colab": {
     "base_uri": "https://localhost:8080/"
    },
    "id": "8T8ye45VpeES",
    "outputId": "24c83c60-b235-4fed-fad1-f4d6db3ccf58"
   },
   "outputs": [],
   "source": [
    "\n",
    "print(\"Два главных фактора вносят {}% в вариацию данных\".format(sum(percentvar[:2])))\n",
    "\n",
    "#||A −Ak||2 = σk+1\n",
    "print(\"Ошибка аппроксимации в евклидовой матричной норме, где k=2: \", round(S[2], 2))\n",
    " \n",
    "# ||A −Ak||2F = σ2k+1 + ... + σ2p\n",
    "fr_error = round(sum(S[2:]**2),2)\n",
    "print(\"Ошибка аппроксимации в норме Фробениуса, где k=2: \", fr_error)\n",
    "\n",
    "\"\"\"|Z −Zk||2F / ||Z||2F\n",
    "= (s2k+1 + s2k+2 + ... + s2p)/\n",
    "s21 + s22 + ... + s2k + s2k+1 + ... + s2p\"\"\"\n",
    "rel_fr_error = round(sum(S[2:]**2)/sum(S**2)*100, 2)\n",
    "# или 100 - 98.9\n",
    "print(\"Относительная ошибка аппроксимации в норме Фробениуса, где k=2: {}%\".format(rel_fr_error))"
   ]
  },
  {
   "cell_type": "code",
   "execution_count": null,
   "metadata": {
    "id": "mZUdaKYRvz7u"
   },
   "outputs": [],
   "source": [
    "# заменяем признаки двумя\n",
    "SVT = np.dot(np.diag(S[:2]), VT[:2])\n",
    "Zk = np.dot(U.T[:2].T,SVT)\n",
    "#Zk = np.dot(U.T[:2].T, np.diag(S[:2])), VT[:2])"
   ]
  },
  {
   "cell_type": "markdown",
   "metadata": {
    "id": "GAnID47fqk47"
   },
   "source": [
    "- Сравнить матрицы корреляций признаков для матрицы Z и матрицы Zk. Оценить качество аппроксимации по близости матриц корреляций (можно использовать относительную погрешность в одной из матричных норм) "
   ]
  },
  {
   "cell_type": "code",
   "execution_count": null,
   "metadata": {
    "id": "1Lp5SLkYpN_S"
   },
   "outputs": [],
   "source": [
    "corrZ = Z.corr()\n",
    "Zkdf = pd.DataFrame(Zk, columns = Z.columns )\n",
    "corrZk = Zkdf.corr()"
   ]
  },
  {
   "cell_type": "code",
   "execution_count": null,
   "metadata": {
    "colab": {
     "base_uri": "https://localhost:8080/",
     "height": 471
    },
    "id": "ErKPKBRupav3",
    "outputId": "c9aa4bc7-0850-420f-959f-3c15776e0e71"
   },
   "outputs": [],
   "source": [
    "sns.heatmap(corrZ,annot=True)"
   ]
  },
  {
   "cell_type": "code",
   "execution_count": null,
   "metadata": {
    "colab": {
     "base_uri": "https://localhost:8080/",
     "height": 471
    },
    "id": "d0ZDhTp_p8gf",
    "outputId": "90f41a5f-1760-4d0f-ef1a-8e5e2f89ea33"
   },
   "outputs": [],
   "source": [
    "sns.heatmap(corrZk,annot=True)"
   ]
  },
  {
   "cell_type": "markdown",
   "metadata": {},
   "source": [
    "Качество аппроксимации по близости матриц с использованием нормы Фробениуса"
   ]
  },
  {
   "cell_type": "code",
   "execution_count": null,
   "metadata": {
    "colab": {
     "base_uri": "https://localhost:8080/"
    },
    "id": "IEE-r1JewhsR",
    "outputId": "f322198b-95e4-4b75-d2f8-6ca4eee9a7fa"
   },
   "outputs": [],
   "source": [
    "np.linalg.norm(corrZ, 'fro') - np.linalg.norm(corrZk, 'fro')"
   ]
  },
  {
   "cell_type": "markdown",
   "metadata": {
    "id": "HyeTIn7IuPzL"
   },
   "source": [
    "\n",
    "\n",
    "- Используя выделенные главные факторы, найти представления клиентов векторами меньшей размерности (размерности k).\n",
    "- Используя представление клиентов векторами меньшей размерности, построить карту клиентов. Сделать выводы о клиентах банка. \n"
   ]
  },
  {
   "cell_type": "markdown",
   "metadata": {
    "id": "EKs-snr_q1LT"
   },
   "source": [
    "Матрицы нагрузок и вращение"
   ]
  },
  {
   "cell_type": "code",
   "execution_count": null,
   "metadata": {
    "colab": {
     "base_uri": "https://localhost:8080/"
    },
    "id": "P0idZ9g3g5j5",
    "outputId": "492b2af9-7039-4219-9f62-1e35e073cf2f"
   },
   "outputs": [],
   "source": [
    "VT[:2].T # карта признаков"
   ]
  },
  {
   "cell_type": "markdown",
   "metadata": {
    "id": "1S4sDxa8y4SM"
   },
   "source": [
    "Получим матрицу нагрузок:"
   ]
  },
  {
   "cell_type": "code",
   "execution_count": null,
   "metadata": {
    "colab": {
     "base_uri": "https://localhost:8080/"
    },
    "id": "hKysycY0iRr9",
    "outputId": "879d54f0-46ab-48e6-c0ab-325eff930a02"
   },
   "outputs": [],
   "source": [
    "SVT.T"
   ]
  },
  {
   "cell_type": "markdown",
   "metadata": {
    "id": "Y-WY7v7ly9H2"
   },
   "source": [
    "Ясной картины нагрузки не дают, поэтому будем вращать.\n",
    "\n",
    "Попробуем три способа:\n",
    "1. простой поворот на 45 градусов\n",
    "2. варимакс\n",
    "3. квартимакс"
   ]
  },
  {
   "cell_type": "code",
   "execution_count": null,
   "metadata": {
    "colab": {
     "base_uri": "https://localhost:8080/"
    },
    "id": "fbnZHWlpj6Gt",
    "outputId": "54ba8b73-9a6d-44d3-f4c4-43566d7908f4"
   },
   "outputs": [],
   "source": [
    "G = np.array([[0.71, -0.71], [0.71, 0.71]]) # 45 градусов по часовой\n",
    "simple_rot = np.dot(G.T, SVT)\n",
    "simple_rot.T"
   ]
  },
  {
   "cell_type": "markdown",
   "metadata": {
    "id": "qT-dGE-8zxmk"
   },
   "source": [
    "После простого поворота корреляции стали значительно виднее. \n",
    "* от первого фактора: 3, 5, 6\n",
    "* от второго фактора: 1, 2, 4"
   ]
  },
  {
   "cell_type": "code",
   "execution_count": null,
   "metadata": {
    "id": "NxWsOovpuIjN"
   },
   "outputs": [],
   "source": [
    "! pip install factor_analyzer\n",
    "from factor_analyzer import Rotator"
   ]
  },
  {
   "cell_type": "markdown",
   "metadata": {
    "id": "CsaumJ4i0LbJ"
   },
   "source": [
    "После применения метода варимакс получаем недостаточно четкие результаты по 6 признаку, в остальном - совпадает с простым поворотом на 45 градусов."
   ]
  },
  {
   "cell_type": "code",
   "execution_count": null,
   "metadata": {
    "colab": {
     "base_uri": "https://localhost:8080/"
    },
    "id": "AmnvFX97thb0",
    "outputId": "34b3b341-4a13-445e-c0e2-3ed0d6711e28"
   },
   "outputs": [],
   "source": [
    "loadings = pd.DataFrame(SVT.T)\n",
    "varirot = Rotator(method='varimax')\n",
    "varimax_rot = varirot.fit_transform(loadings)\n",
    "varimax_rot"
   ]
  },
  {
   "cell_type": "markdown",
   "metadata": {
    "id": "0tiMskoF0o0j"
   },
   "source": [
    "Квартимакс дает самые однозначные результаты:\n",
    "* от первого фактора: 3, 5, 6\n",
    "* от второго фактора: 1, 2, 4"
   ]
  },
  {
   "cell_type": "code",
   "execution_count": null,
   "metadata": {
    "colab": {
     "base_uri": "https://localhost:8080/"
    },
    "id": "n7d038d_vtwU",
    "outputId": "f69578f1-86d4-419a-abc6-027be5fa2551"
   },
   "outputs": [],
   "source": [
    "quartirot = Rotator(method='quartimax')\n",
    "quartimax_rot = quartirot.fit_transform(loadings)\n",
    "quartimax_rot"
   ]
  },
  {
   "cell_type": "code",
   "execution_count": null,
   "metadata": {
    "id": "f6d3rDHfk-jH"
   },
   "outputs": [],
   "source": [
    "# переход к другому базису\n",
    "Zk2 = np.dot( np.dot(U.T[:2].T, G), simple_rot)"
   ]
  },
  {
   "cell_type": "code",
   "execution_count": null,
   "metadata": {
    "id": "YFV1Gn1oqkSj"
   },
   "outputs": [],
   "source": []
  },
  {
   "cell_type": "code",
   "execution_count": null,
   "metadata": {
    "id": "gxTWiP1SqDJD"
   },
   "outputs": [],
   "source": []
  }
 ],
 "metadata": {
  "colab": {
   "collapsed_sections": [],
   "name": "DZ2-13.ipynb",
   "provenance": []
  },
  "kernelspec": {
   "display_name": "Python 3 (ipykernel)",
   "language": "python",
   "name": "python3"
  },
  "language_info": {
   "codemirror_mode": {
    "name": "ipython",
    "version": 3
   },
   "file_extension": ".py",
   "mimetype": "text/x-python",
   "name": "python",
   "nbconvert_exporter": "python",
   "pygments_lexer": "ipython3",
   "version": "3.8.10"
  }
 },
 "nbformat": 4,
 "nbformat_minor": 1
}
