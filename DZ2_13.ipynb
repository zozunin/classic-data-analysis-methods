{
  "nbformat": 4,
  "nbformat_minor": 0,
  "metadata": {
    "colab": {
      "name": "DZ2-13.ipynb",
      "provenance": [],
      "collapsed_sections": []
    },
    "kernelspec": {
      "name": "python3",
      "display_name": "Python 3"
    },
    "language_info": {
      "name": "python"
    }
  },
  "cells": [
    {
      "cell_type": "code",
      "metadata": {
        "id": "529oRkPFouoD"
      },
      "source": [
        "import pandas as pd\n",
        "import numpy as np\n",
        "import seaborn as sns\n",
        "from sklearn.preprocessing import StandardScaler"
      ],
      "execution_count": 1,
      "outputs": []
    },
    {
      "cell_type": "code",
      "metadata": {
        "colab": {
          "base_uri": "https://localhost:8080/",
          "height": 398
        },
        "id": "q8OO2-oAmiV2",
        "outputId": "aa834d6a-fffd-4a32-d8cf-cec816103951"
      },
      "source": [
        "url = 'https://github.com/zozunin/project/blob/main/HW_2_v13.xls?raw=true'\n",
        "cols = ['Возраст (лет)', 'Количество иждивенцев',\t'Доход (руб./мес.)',\t'Срок проживания в регионе (лет)',\t'Оценка автомобиля заемщика (USD)',\t'Размер кредита(тыс. руб.)']\n",
        "X = pd.read_excel(url, header=None)\n",
        "X.columns = cols\n",
        "X.head(10)"
      ],
      "execution_count": 2,
      "outputs": [
        {
          "output_type": "execute_result",
          "data": {
            "text/html": [
              "<div>\n",
              "<style scoped>\n",
              "    .dataframe tbody tr th:only-of-type {\n",
              "        vertical-align: middle;\n",
              "    }\n",
              "\n",
              "    .dataframe tbody tr th {\n",
              "        vertical-align: top;\n",
              "    }\n",
              "\n",
              "    .dataframe thead th {\n",
              "        text-align: right;\n",
              "    }\n",
              "</style>\n",
              "<table border=\"1\" class=\"dataframe\">\n",
              "  <thead>\n",
              "    <tr style=\"text-align: right;\">\n",
              "      <th></th>\n",
              "      <th>Возраст (лет)</th>\n",
              "      <th>Количество иждивенцев</th>\n",
              "      <th>Доход (руб./мес.)</th>\n",
              "      <th>Срок проживания в регионе (лет)</th>\n",
              "      <th>Оценка автомобиля заемщика (USD)</th>\n",
              "      <th>Размер кредита(тыс. руб.)</th>\n",
              "    </tr>\n",
              "  </thead>\n",
              "  <tbody>\n",
              "    <tr>\n",
              "      <th>0</th>\n",
              "      <td>37</td>\n",
              "      <td>1</td>\n",
              "      <td>7400</td>\n",
              "      <td>9</td>\n",
              "      <td>7000</td>\n",
              "      <td>70000</td>\n",
              "    </tr>\n",
              "    <tr>\n",
              "      <th>1</th>\n",
              "      <td>45</td>\n",
              "      <td>3</td>\n",
              "      <td>33100</td>\n",
              "      <td>12</td>\n",
              "      <td>34000</td>\n",
              "      <td>337000</td>\n",
              "    </tr>\n",
              "    <tr>\n",
              "      <th>2</th>\n",
              "      <td>32</td>\n",
              "      <td>1</td>\n",
              "      <td>18700</td>\n",
              "      <td>5</td>\n",
              "      <td>17000</td>\n",
              "      <td>176000</td>\n",
              "    </tr>\n",
              "    <tr>\n",
              "      <th>3</th>\n",
              "      <td>39</td>\n",
              "      <td>2</td>\n",
              "      <td>29100</td>\n",
              "      <td>9</td>\n",
              "      <td>29000</td>\n",
              "      <td>289000</td>\n",
              "    </tr>\n",
              "    <tr>\n",
              "      <th>4</th>\n",
              "      <td>33</td>\n",
              "      <td>1</td>\n",
              "      <td>11400</td>\n",
              "      <td>6</td>\n",
              "      <td>10000</td>\n",
              "      <td>104000</td>\n",
              "    </tr>\n",
              "    <tr>\n",
              "      <th>5</th>\n",
              "      <td>28</td>\n",
              "      <td>1</td>\n",
              "      <td>20100</td>\n",
              "      <td>2</td>\n",
              "      <td>18000</td>\n",
              "      <td>184000</td>\n",
              "    </tr>\n",
              "    <tr>\n",
              "      <th>6</th>\n",
              "      <td>47</td>\n",
              "      <td>2</td>\n",
              "      <td>4400</td>\n",
              "      <td>15</td>\n",
              "      <td>6000</td>\n",
              "      <td>55000</td>\n",
              "    </tr>\n",
              "    <tr>\n",
              "      <th>7</th>\n",
              "      <td>36</td>\n",
              "      <td>2</td>\n",
              "      <td>30500</td>\n",
              "      <td>7</td>\n",
              "      <td>30000</td>\n",
              "      <td>299000</td>\n",
              "    </tr>\n",
              "    <tr>\n",
              "      <th>8</th>\n",
              "      <td>45</td>\n",
              "      <td>3</td>\n",
              "      <td>32300</td>\n",
              "      <td>12</td>\n",
              "      <td>33000</td>\n",
              "      <td>330000</td>\n",
              "    </tr>\n",
              "    <tr>\n",
              "      <th>9</th>\n",
              "      <td>39</td>\n",
              "      <td>2</td>\n",
              "      <td>25900</td>\n",
              "      <td>9</td>\n",
              "      <td>26000</td>\n",
              "      <td>258000</td>\n",
              "    </tr>\n",
              "  </tbody>\n",
              "</table>\n",
              "</div>"
            ],
            "text/plain": [
              "   Возраст (лет)  ...  Размер кредита(тыс. руб.)\n",
              "0             37  ...                      70000\n",
              "1             45  ...                     337000\n",
              "2             32  ...                     176000\n",
              "3             39  ...                     289000\n",
              "4             33  ...                     104000\n",
              "5             28  ...                     184000\n",
              "6             47  ...                      55000\n",
              "7             36  ...                     299000\n",
              "8             45  ...                     330000\n",
              "9             39  ...                     258000\n",
              "\n",
              "[10 rows x 6 columns]"
            ]
          },
          "metadata": {},
          "execution_count": 2
        }
      ]
    },
    {
      "cell_type": "markdown",
      "metadata": {
        "id": "wZX6chxRuMeM"
      },
      "source": [
        "## Изучение данных"
      ]
    },
    {
      "cell_type": "markdown",
      "metadata": {
        "id": "QfGbRsIxuP5Z"
      },
      "source": [
        "## PCA"
      ]
    },
    {
      "cell_type": "markdown",
      "metadata": {
        "id": "bC7Gmq1duXjW"
      },
      "source": [
        "- Выполнить центрирование данных и такую нормировку, что евклидова норма каждого признака равна 1 (полученная матрица обозначается через Z)."
      ]
    },
    {
      "cell_type": "code",
      "metadata": {
        "id": "NlrA_U_puSpN"
      },
      "source": [
        "# центрирование и нормализация\n",
        "Z = X - X.mean()\n",
        "norms = [np.linalg.norm(Z[i]) for i in Z.columns]\n",
        "Z = Z/norms"
      ],
      "execution_count": 3,
      "outputs": []
    },
    {
      "cell_type": "code",
      "metadata": {
        "colab": {
          "base_uri": "https://localhost:8080/"
        },
        "id": "YoFxPz4QMDET",
        "outputId": "6689a3e4-fc48-4cda-8fc1-3cb41e00202d"
      },
      "source": [
        "np.linalg.norm(Z['Возраст (лет)'])"
      ],
      "execution_count": 4,
      "outputs": [
        {
          "output_type": "execute_result",
          "data": {
            "text/plain": [
              "1.0"
            ]
          },
          "metadata": {},
          "execution_count": 4
        }
      ]
    },
    {
      "cell_type": "markdown",
      "metadata": {
        "id": "e51Koq7ZvMNn"
      },
      "source": [
        "- Найти SVD разложение матрицы Z (матрицы U, S, V). **Докажите, что при выбранной нормировке, коэффициенты разложения столбцов матрицы Z по скрытым факторам являются корреляциями этих столбцов и скрытых факторов.**"
      ]
    },
    {
      "cell_type": "code",
      "metadata": {
        "id": "lCDi6GgewWTk"
      },
      "source": [
        "U, S, VT = np.linalg.svd(Z)"
      ],
      "execution_count": 5,
      "outputs": []
    },
    {
      "cell_type": "markdown",
      "metadata": {
        "id": "FKsd4WA_vy1j"
      },
      "source": [
        " - Исследуйте, сколько скрытых факторов (главные факторы) достаточно для хорошей аппроксимации матрицы данных Z. Заменить значения исходных признаков линейными комбинациями главных факторов (матрица Zk, k – число главных факторов). Оценить погрешность аппроксимации в евклидовой матричной  норме и норме Фробениуса. "
      ]
    },
    {
      "cell_type": "code",
      "metadata": {
        "colab": {
          "base_uri": "https://localhost:8080/"
        },
        "id": "8T8ye45VpeES",
        "outputId": "24c83c60-b235-4fed-fad1-f4d6db3ccf58"
      },
      "source": [
        "percentvar = [round(i/6.0*100,2) for i in S**2]\n",
        "print(\"Сингулярные числа: \", S.round(2))\n",
        "qrS = S ** 2\n",
        "print(\"Квадраты сингулярных чисел: \", qrS.round(2))\n",
        "percentvar = [round(i/6.0*100, 2) for i in qrS]\n",
        "print(\"Вклад в вариацию данных в %: \", percentvar)\n",
        "print(\"Два главных фактора вносят {}% в вариацию данных\".format(sum(percentvar[:2])))\n",
        "\n",
        "#||A −Ak||2 = σk+1\n",
        "print(\"Ошибка аппроксимации в евклидовой матричной норме, где k=2: \", round(S[2], 2))\n",
        " \n",
        "# ||A −Ak||2F = σ2k+1 + ... + σ2p\n",
        "fr_error = round(sum(S[2:]**2),2)\n",
        "print(\"Ошибка аппроксимации в норме Фробениуса, где k=2: \", fr_error)\n",
        "\n",
        "\"\"\"|Z −Zk||2F / ||Z||2F\n",
        "= (s2k+1 + s2k+2 + ... + s2p)/\n",
        "s21 + s22 + ... + s2k + s2k+1 + ... + s2p\"\"\"\n",
        "rel_fr_error = round(sum(S[2:]**2)/sum(S**2)*100, 2)\n",
        "# или 100 - 98.9\n",
        "print(\"Относительная ошибка аппроксимации в норме Фробениуса, где k=2: {}%\".format(rel_fr_error))"
      ],
      "execution_count": 6,
      "outputs": [
        {
          "output_type": "stream",
          "name": "stdout",
          "text": [
            "Сингулярные числа:  [1.84 1.6  0.24 0.07 0.03 0.01]\n",
            "Квадраты сингулярных чисел:  [3.38 2.55 0.06 0.01 0.   0.  ]\n",
            "Вклад в вариацию данных в %:  [56.39, 42.51, 0.99, 0.09, 0.02, 0.0]\n",
            "Два главных фактора вносят 98.9% в вариацию данных\n",
            "Ошибка аппроксимации в евклидовой матричной норме, где k=2:  0.24\n",
            "Ошибка аппроксимации в норме Фробениуса, где k=2:  0.07\n",
            "Относительная ошибка аппроксимации в норме Фробениуса, где k=2: 1.1%\n"
          ]
        }
      ]
    },
    {
      "cell_type": "code",
      "metadata": {
        "id": "mZUdaKYRvz7u"
      },
      "source": [
        "# заменяем признаки двумя\n",
        "SVT = np.dot(np.diag(S[:2]), VT[:2])\n",
        "Zk = np.dot(U.T[:2].T,SVT)\n",
        "#Zk = np.dot(U.T[:2].T, np.diag(S[:2])), VT[:2])"
      ],
      "execution_count": 9,
      "outputs": []
    },
    {
      "cell_type": "markdown",
      "metadata": {
        "id": "GAnID47fqk47"
      },
      "source": [
        "- Сравнить матрицы корреляций признаков для матрицы Z и матрицы Zk. Оценить качество аппроксимации по близости матриц корреляций (можно использовать относительную погрешность в одной из матричных норм) "
      ]
    },
    {
      "cell_type": "code",
      "metadata": {
        "id": "1Lp5SLkYpN_S"
      },
      "source": [
        "corrZ = Z.corr()\n",
        "Zkdf = pd.DataFrame(Zk, columns = Z.columns )\n",
        "corrZk = Zkdf.corr()"
      ],
      "execution_count": 10,
      "outputs": []
    },
    {
      "cell_type": "code",
      "metadata": {
        "colab": {
          "base_uri": "https://localhost:8080/",
          "height": 471
        },
        "id": "ErKPKBRupav3",
        "outputId": "c9aa4bc7-0850-420f-959f-3c15776e0e71"
      },
      "source": [
        "sns.heatmap(corrZ,annot=True)"
      ],
      "execution_count": 11,
      "outputs": [
        {
          "output_type": "execute_result",
          "data": {
            "text/plain": [
              "<matplotlib.axes._subplots.AxesSubplot at 0x7fd88c2e6090>"
            ]
          },
          "metadata": {},
          "execution_count": 11
        },
        {
          "output_type": "display_data",
          "data": {
            "image/png": "[encoded data removed]",
            "text/plain": [
              "<Figure size 432x288 with 2 Axes>"
            ]
          },
          "metadata": {
            "needs_background": "light"
          }
        }
      ]
    },
    {
      "cell_type": "code",
      "metadata": {
        "colab": {
          "base_uri": "https://localhost:8080/",
          "height": 471
        },
        "id": "d0ZDhTp_p8gf",
        "outputId": "90f41a5f-1760-4d0f-ef1a-8e5e2f89ea33"
      },
      "source": [
        "sns.heatmap(corrZk,annot=True)"
      ],
      "execution_count": 12,
      "outputs": [
        {
          "output_type": "execute_result",
          "data": {
            "text/plain": [
              "<matplotlib.axes._subplots.AxesSubplot at 0x7fd882eda450>"
            ]
          },
          "metadata": {},
          "execution_count": 12
        },
        {
          "output_type": "display_data",
          "data": {
            "image/png": "[encoded data removed]",
            "text/plain": [
              "<Figure size 432x288 with 2 Axes>"
            ]
          },
          "metadata": {
            "needs_background": "light"
          }
        }
      ]
    },
    {
      "cell_type": "code",
      "metadata": {
        "colab": {
          "base_uri": "https://localhost:8080/"
        },
        "id": "IEE-r1JewhsR",
        "outputId": "f322198b-95e4-4b75-d2f8-6ca4eee9a7fa"
      },
      "source": [
        "np.linalg.norm(corrZ, 'fro') - np.linalg.norm(corrZ, 'fro')"
      ],
      "execution_count": 13,
      "outputs": [
        {
          "output_type": "execute_result",
          "data": {
            "text/plain": [
              "4.237354850246774"
            ]
          },
          "metadata": {},
          "execution_count": 13
        }
      ]
    },
    {
      "cell_type": "markdown",
      "metadata": {
        "id": "EKs-snr_q1LT"
      },
      "source": [
        "Матрицы нагрузок и вращение"
      ]
    },
    {
      "cell_type": "code",
      "metadata": {
        "colab": {
          "base_uri": "https://localhost:8080/"
        },
        "id": "P0idZ9g3g5j5",
        "outputId": "492b2af9-7039-4219-9f62-1e35e073cf2f"
      },
      "source": [
        "VT[:2].T # карта признаков"
      ],
      "execution_count": null,
      "outputs": [
        {
          "output_type": "execute_result",
          "data": {
            "text/plain": [
              "array([[ 0.31027213, -0.51019506],\n",
              "       [ 0.44262039, -0.34078805],\n",
              "       [ 0.43491699,  0.37524008],\n",
              "       [ 0.25912528, -0.5465919 ],\n",
              "       [ 0.48246293,  0.28714921],\n",
              "       [ 0.46770633,  0.31865656]])"
            ]
          },
          "metadata": {},
          "execution_count": 24
        }
      ]
    },
    {
      "cell_type": "markdown",
      "metadata": {
        "id": "1S4sDxa8y4SM"
      },
      "source": [
        "Получим матрицу нагрузок:"
      ]
    },
    {
      "cell_type": "code",
      "metadata": {
        "colab": {
          "base_uri": "https://localhost:8080/"
        },
        "id": "hKysycY0iRr9",
        "outputId": "879d54f0-46ab-48e6-c0ab-325eff930a02"
      },
      "source": [
        "SVT.T"
      ],
      "execution_count": null,
      "outputs": [
        {
          "output_type": "execute_result",
          "data": {
            "text/plain": [
              "array([[ 0.57070095, -0.81480509],\n",
              "       [ 0.81413655, -0.54425426],\n",
              "       [ 0.79996724,  0.59927575],\n",
              "       [ 0.47662369, -0.87293252],\n",
              "       [ 0.88742117,  0.45859056],\n",
              "       [ 0.86027853,  0.50890925]])"
            ]
          },
          "metadata": {},
          "execution_count": 25
        }
      ]
    },
    {
      "cell_type": "markdown",
      "metadata": {
        "id": "Y-WY7v7ly9H2"
      },
      "source": [
        "Ясной картины нагрузки не дают, поэтому будем вращать.\n",
        "\n",
        "Попробуем три способа:\n",
        "1. простой поворот на 45 градусов\n",
        "2. варимакс\n",
        "3. квартимакс"
      ]
    },
    {
      "cell_type": "code",
      "metadata": {
        "colab": {
          "base_uri": "https://localhost:8080/"
        },
        "id": "fbnZHWlpj6Gt",
        "outputId": "54ba8b73-9a6d-44d3-f4c4-43566d7908f4"
      },
      "source": [
        "G = np.array([[0.71, -0.71], [0.71, 0.71]]) # 45 градусов по часовой\n",
        "simple_rot = np.dot(G.T, SVT)\n",
        "simple_rot.T"
      ],
      "execution_count": null,
      "outputs": [
        {
          "output_type": "execute_result",
          "data": {
            "text/plain": [
              "array([[-0.17331394, -0.98370929],\n",
              "       [ 0.19161643, -0.96445747],\n",
              "       [ 0.99346252, -0.14249096],\n",
              "       [-0.28137927, -0.95818491],\n",
              "       [ 0.95566833, -0.30446974],\n",
              "       [ 0.97212333, -0.24947219]])"
            ]
          },
          "metadata": {},
          "execution_count": 153
        }
      ]
    },
    {
      "cell_type": "markdown",
      "metadata": {
        "id": "qT-dGE-8zxmk"
      },
      "source": [
        "После простого поворота корреляции стали значительно виднее. \n",
        "* от первого фактора: 3, 5, 6\n",
        "* от второго фактора: 1, 2, 4"
      ]
    },
    {
      "cell_type": "code",
      "metadata": {
        "id": "NxWsOovpuIjN"
      },
      "source": [
        "! pip install factor_analyzer\n",
        "from factor_analyzer import Rotator"
      ],
      "execution_count": null,
      "outputs": []
    },
    {
      "cell_type": "markdown",
      "metadata": {
        "id": "CsaumJ4i0LbJ"
      },
      "source": [
        "После применения метода варимакс получаем недостаточно четкие результаты по 6 признаку, в остальном - совпадает с простым поворотом на 45 градусов."
      ]
    },
    {
      "cell_type": "code",
      "metadata": {
        "colab": {
          "base_uri": "https://localhost:8080/"
        },
        "id": "AmnvFX97thb0",
        "outputId": "34b3b341-4a13-445e-c0e2-3ed0d6711e28"
      },
      "source": [
        "loadings = pd.DataFrame(SVT.T)\n",
        "varirot = Rotator(method='varimax')\n",
        "varimax_rot = varirot.fit_transform(loadings)\n",
        "varimax_rot"
      ],
      "execution_count": null,
      "outputs": [
        {
          "output_type": "execute_result",
          "data": {
            "text/plain": [
              "array([[ 3.40243576e-04, -9.94789822e-01],\n",
              "       [ 3.54915907e-01, -9.12724340e-01],\n",
              "       [ 9.99018708e-01,  3.22588524e-02],\n",
              "       [-1.10065150e-01, -9.88466991e-01],\n",
              "       [ 9.89996713e-01, -1.33147067e-01],\n",
              "       [ 9.96612829e-01, -7.63586776e-02]])"
            ]
          },
          "metadata": {},
          "execution_count": 26
        }
      ]
    },
    {
      "cell_type": "markdown",
      "metadata": {
        "id": "0tiMskoF0o0j"
      },
      "source": [
        "Квартимакс дает самые однозначные результаты:\n",
        "* от первого фактора: 3, 5, 6\n",
        "* от второго фактора: 1, 2, 4"
      ]
    },
    {
      "cell_type": "code",
      "metadata": {
        "colab": {
          "base_uri": "https://localhost:8080/"
        },
        "id": "n7d038d_vtwU",
        "outputId": "f69578f1-86d4-419a-abc6-027be5fa2551"
      },
      "source": [
        "quartirot = Rotator(method='quartimax')\n",
        "quartimax_rot = quartirot.fit_transform(loadings)\n",
        "quartimax_rot"
      ],
      "execution_count": null,
      "outputs": [
        {
          "output_type": "execute_result",
          "data": {
            "text/plain": [
              "array([[ 0.00987027, -0.99474091],\n",
              "       [ 0.36364348, -0.90928238],\n",
              "       [ 0.99866383,  0.04182793],\n",
              "       [-0.10059063, -0.98947605],\n",
              "       [ 0.99122683, -0.12365683],\n",
              "       [ 0.99729861, -0.06680767]])"
            ]
          },
          "metadata": {},
          "execution_count": 28
        }
      ]
    },
    {
      "cell_type": "code",
      "metadata": {
        "id": "f6d3rDHfk-jH"
      },
      "source": [
        "# переход к другому базису\n",
        "Zk2 = np.dot( np.dot(U.T[:2].T, G), simple_rot)"
      ],
      "execution_count": null,
      "outputs": []
    },
    {
      "cell_type": "code",
      "metadata": {
        "id": "YFV1Gn1oqkSj"
      },
      "source": [
        ""
      ],
      "execution_count": null,
      "outputs": []
    },
    {
      "cell_type": "markdown",
      "metadata": {
        "id": "HyeTIn7IuPzL"
      },
      "source": [
        "\n",
        "\n",
        "- Используя выделенные главные факторы, найти представления клиентов векторами меньшей размерности (размерности k).\n",
        "- Используя представление клиентов векторами меньшей размерности, построить карту клиентов. Сделать выводы о клиентах банка. \n"
      ]
    },
    {
      "cell_type": "code",
      "metadata": {
        "id": "gxTWiP1SqDJD"
      },
      "source": [
        ""
      ],
      "execution_count": null,
      "outputs": []
    }
  ]
}